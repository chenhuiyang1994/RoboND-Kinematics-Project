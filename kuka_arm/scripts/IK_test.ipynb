{
 "cells": [
  {
   "cell_type": "code",
   "execution_count": 1,
   "metadata": {
    "collapsed": true
   },
   "outputs": [],
   "source": [
    "import numpy as np\n",
    "from sympy import symbols, cos, sin, pi, simplify, sqrt, atan2, asin, acos\n",
    "from sympy.matrices import Matrix"
   ]
  },
  {
   "cell_type": "code",
   "execution_count": 2,
   "metadata": {
    "collapsed": true
   },
   "outputs": [],
   "source": [
    "q1, q2, q3, q4, q5, q6, q7 = symbols('q1:8')\n",
    "d1, d2, d3, d4, d5, d6, d7 = symbols('d1:8')\n",
    "a0, a1, a2, a3, a4, a5, a6 = symbols('a0:7')\n",
    "alpha0, alpha1, alpha2, alpha3, alpha4, alpha5, alpha6 = symbols('alpha0:7')"
   ]
  },
  {
   "cell_type": "code",
   "execution_count": 3,
   "metadata": {
    "collapsed": true
   },
   "outputs": [],
   "source": [
    "def rot_x(q):\n",
    "    M1 = Matrix([[0],[0],[0]])\n",
    "    M2 = Matrix([[0, 0, 0, 1]])\n",
    "    Rx = Matrix([[  1,      0,       0],\n",
    "                 [  0, cos(q), -sin(q)],\n",
    "                 [  0, sin(q),  cos(q)]])\n",
    "    rot_x = Rx.row_join(M1)\n",
    "    rot_x = rot_x.col_join(M2)\n",
    "    return rot_x\n",
    "    \n",
    "def rot_y(q):   \n",
    "    M1 = Matrix([[0],[0],[0]])\n",
    "    M2 = Matrix([[0, 0, 0, 1]])\n",
    "    Ry = Matrix([[ cos(q),     0, sin(q)],\n",
    "                 [      0,     1,      0],\n",
    "                 [-sin(q),     0, cos(q)]])\n",
    "    rot_y = Ry.row_join(M1)\n",
    "    rot_y = rot_y.col_join(M2)\n",
    "    return rot_y\n",
    "\n",
    "def rot_z(q):   \n",
    "    M1 = Matrix([[0],[0],[0]])\n",
    "    M2 = Matrix([[0, 0, 0, 1]])\n",
    "    Rz = Matrix([[ cos(q),-sin(q), 0],\n",
    "                 [ sin(q), cos(q), 0],\n",
    "                 [      0,      0, 1]])\n",
    "    rot_z = Rz.row_join(M1)\n",
    "    rot_z = rot_z.col_join(M2)\n",
    "    return rot_z\n",
    "\n",
    "def trans_x(d):\n",
    "    M1 = Matrix(np.eye(3))\n",
    "    M2 = Matrix([[d],[0],[0]])\n",
    "    M3 = Matrix([[0, 0, 0, 1]])\n",
    "    Trans_x = M1.row_join(M2)\n",
    "    Trans_x = Trans_x.col_join(M3)\n",
    "    return Trans_x\n",
    "\n",
    "def trans_y(d):\n",
    "    M1 = Matrix(np.eye(3))\n",
    "    M2 = Matrix([[0],[d],[0]])\n",
    "    M3 = Matrix([[0, 0, 0, 1]])\n",
    "    Trans_y = M1.row_join(M2)\n",
    "    Trans_y = Trans_y.col_join(M3)\n",
    "    return Trans_y\n",
    "\n",
    "def trans_z(d):\n",
    "    M1 = Matrix(np.eye(3))\n",
    "    M2 = Matrix([[0],[0],[d]])\n",
    "    M3 = Matrix([[0, 0, 0, 1]])\n",
    "    Trans_z = M1.row_join(M2)\n",
    "    Trans_z = Trans_z.col_join(M3)\n",
    "    return Trans_z\n",
    "\n",
    "def DH_transform(q1, d1, alpha0, a0):\n",
    "    '''The modified DH convention transform matrix\n",
    "    alpha0: twist angle, a0: link length, \n",
    "    d1: link offset, q1: joint angle'''\n",
    "    T0_1 = Matrix([[cos(q1), -sin(q1),      0,    a0],\n",
    "                   [sin(q1) * cos(alpha0), cos(q1) * cos(alpha0), -sin(alpha0), -sin(alpha0) * d1],\n",
    "                   [sin(q1) * sin(alpha0), cos(q1) * sin(alpha0),  cos(alpha0),  cos(alpha0) * d1],\n",
    "                   [0,              0,      0,     1]])\n",
    "    return T0_1\n",
    "    "
   ]
  },
  {
   "cell_type": "code",
   "execution_count": 4,
   "metadata": {
    "collapsed": true
   },
   "outputs": [],
   "source": [
    "# The Modified DH params\n",
    "s = {alpha0:       0, a0:      0, d1:  0.75,\n",
    "     alpha1: -pi / 2, a1:   0.35, d2:     0, q2: q2 - pi / 2,\n",
    "     alpha2:       0, a2:   1.25, d3:     0,\n",
    "     alpha3: -pi / 2, a3: -0.054, d4:   1.5,\n",
    "     alpha4:  pi / 2, a4:      0, d5:     0,\n",
    "     alpha5: -pi / 2, a5:      0, d6:     0,\n",
    "     alpha6:       0, a6:      0, d7: 0.303, q7: 0}"
   ]
  },
  {
   "cell_type": "code",
   "execution_count": 5,
   "metadata": {
    "collapsed": true
   },
   "outputs": [],
   "source": [
    "# Define Modified DH Transformation matrix\n",
    "# base_link to link1\n",
    "T0_1 = DH_transform(q1, d1, alpha0, a0)\n",
    "T0_1 = T0_1.subs(s)\n",
    "# linke1 to link 2\n",
    "T1_2 = DH_transform(q2, d2, alpha1, a1)\n",
    "T1_2 = T1_2.subs(s)\n",
    "# link2 to link3\n",
    "T2_3 = DH_transform(q3, d3, alpha2, a2)\n",
    "T2_3 = T2_3.subs(s)\n",
    "# link3 to link4\n",
    "T3_4 = DH_transform(q4, d4, alpha3, a3)\n",
    "T3_4 = T3_4.subs(s)\n",
    "# link4 to link5\n",
    "T4_5 = DH_transform(q5, d5, alpha4, a4)\n",
    "T4_5 = T4_5.subs(s)\n",
    "# link5 to link6\n",
    "T5_6 = DH_transform(q6, d6, alpha5, a5)\n",
    "T5_6 = T5_6.subs(s)\n",
    "# link6 to end-effector\n",
    "T6_7 = DH_transform(q7, d7, alpha6, a6)\n",
    "T6_7 = T6_7.subs(s)"
   ]
  },
  {
   "cell_type": "code",
   "execution_count": 6,
   "metadata": {},
   "outputs": [],
   "source": [
    "# Create individual transformation matrices\n",
    "T0_2 = simplify(T0_1 * T1_2)\n",
    "T0_3 = simplify(T0_2 * T2_3)\n",
    "T0_4 = simplify(T0_3 * T3_4)\n",
    "T0_5 = simplify(T0_4 * T4_5)\n",
    "T0_6 = simplify(T0_5 * T5_6)\n",
    "T0_G = simplify(T0_6 * T6_7)\n",
    "\n",
    "R_corr = rot_z(pi) * rot_y(-pi/2)\n",
    "T_total = simplify(T0_G * R_corr)"
   ]
  },
  {
   "cell_type": "code",
   "execution_count": 7,
   "metadata": {
    "collapsed": true
   },
   "outputs": [],
   "source": [
    "import pickle\n",
    "import os\n",
    "if not os.path.exists(\"T_final.p\"):\n",
    "    pickle.dump(T0_1, open(\"T0_1.p\", \"wb\"))\n",
    "    pickle.dump(T0_2, open(\"T0_2.p\", \"wb\"))\n",
    "    pickle.dump(T0_3, open(\"T0_3.p\", \"wb\"))\n",
    "    pickle.dump(T0_4, open(\"T0_4.p\", \"wb\"))\n",
    "    pickle.dump(T0_5, open(\"T0_5.p\", \"wb\"))\n",
    "    pickle.dump(T0_6, open(\"T0_6.p\", \"wb\"))\n",
    "    pickle.dump(T0_G, open(\"T0_G.p\", \"wb\"))\n",
    "    pickle.dump(T_total, open(\"T_final.p\", \"wb\"))\n",
    "else:\n",
    "    T0_1 = pickle.load(open( \"T0_1.p\", \"rb\" ) )\n",
    "    T0_2 = pickle.load(open( \"T0_2.p\", \"rb\" ) )\n",
    "    T0_3 = pickle.load(open( \"T0_3.p\", \"rb\" ) )\n",
    "    T0_4 = pickle.load(open( \"T0_4.p\", \"rb\" ) )\n",
    "    T0_5 = pickle.load(open( \"T0_5.p\", \"rb\" ) )\n",
    "    T0_6 = pickle.load(open( \"T0_6.p\", \"rb\" ) )\n",
    "    T0_G = pickle.load(open( \"T0_G.p\", \"rb\" ) )\n",
    "    T_total = pickle.load(open( \"T_total.p\", \"rb\" ) )"
   ]
  },
  {
   "cell_type": "code",
   "execution_count": 8,
   "metadata": {},
   "outputs": [
    {
     "name": "stdout",
     "output_type": "stream",
     "text": [
      "T_total =  Matrix([\n",
      "[ 0.451648647906469,   0.481759752870882, -0.750946761999841, 0.658912570897484],\n",
      "[ -0.82338964238947, -0.0990529698130237, -0.558764714327024, -1.18106929707144],\n",
      "[-0.343573857634714,   0.870687113540224,  0.351938850746823,  1.08416816570233],\n",
      "[                 0,                   0,                  0,               1.0]])\n"
     ]
    }
   ],
   "source": [
    "# # Numerically evaluate transforms\n",
    "state = {q1:\t-1.06, q2:\t-0.54, q3: 0.94, \n",
    "         q4: \t-2.97, q5:\t0.05, q6:\t4.16}\n",
    "# # print(\"T0_1 = \", T0_1.evalf(subs=state))\n",
    "# # print(\"T0_2 = \", T0_2.evalf(subs=state))\n",
    "# # print(\"T0_3 = \", T0_3.evalf(subs=state))\n",
    "# # print(\"T0_4 = \", T0_4.evalf(subs=state))\n",
    "# print(\"T0_5 = \", T0_5.evalf(subs=state))\n",
    "# print(\"T0_6 = \", T0_6.evalf(subs=state))\n",
    "# print(\"T0_G = \", T0_G.evalf(subs=state))\n",
    "print(\"T_total = \", T_total.evalf(subs=state))"
   ]
  },
  {
   "cell_type": "code",
   "execution_count": 9,
   "metadata": {
    "collapsed": true
   },
   "outputs": [],
   "source": [
    "# gripper position from FK calculation\n",
    "position_fk = T_total.evalf(subs=state)[0:3,3]\n",
    "# gripper position from rviz simulator\n",
    "position_g = Matrix([[0.65841], [-1.1795], [1.0837]])"
   ]
  },
  {
   "cell_type": "code",
   "execution_count": 10,
   "metadata": {},
   "outputs": [
    {
     "name": "stdout",
     "output_type": "stream",
     "text": [
      "Calculation error:  Matrix([\n",
      "[0.000502570897483623],\n",
      "[-0.00156929707144005],\n",
      "[0.000468165702330214]])\n"
     ]
    }
   ],
   "source": [
    "position_error = position_fk - position_g\n",
    "print(\"Calculation error: \", position_error)"
   ]
  },
  {
   "cell_type": "code",
   "execution_count": 11,
   "metadata": {},
   "outputs": [
    {
     "data": {
      "text/plain": [
       "0.00171302362221487"
      ]
     },
     "execution_count": 11,
     "metadata": {},
     "output_type": "execute_result"
    }
   ],
   "source": [
    "# Position error\n",
    "position_error.norm()"
   ]
  },
  {
   "cell_type": "markdown",
   "metadata": {},
   "source": [
    "### Inverse Kinematics"
   ]
  },
  {
   "cell_type": "code",
   "execution_count": 12,
   "metadata": {
    "collapsed": true
   },
   "outputs": [],
   "source": [
    "def rot_roll(q):\n",
    "    R_x = Matrix([[      1,      0,      0],\n",
    "                  [      0, cos(q), -sin(q)],\n",
    "                  [      0, sin(q),  cos(q)]])\n",
    "    return R_x\n",
    "    \n",
    "def rot_pitch(q):              \n",
    "    R_y = Matrix([[ cos(q),     0, sin(q)],\n",
    "                  [      0,     1,      0],\n",
    "                  [-sin(q),     0, cos(q)]]) \n",
    "    return R_y\n",
    "\n",
    "def rot_yaw(q):    \n",
    "    R_z = Matrix([[ cos(q),-sin(q), 0],\n",
    "                  [ sin(q), cos(q), 0],\n",
    "                  [      0,      0, 1]])  \n",
    "    return R_z"
   ]
  },
  {
   "cell_type": "code",
   "execution_count": 13,
   "metadata": {
    "collapsed": true
   },
   "outputs": [],
   "source": [
    "r, p, y = symbols(\"r p y\") # end-effector orientation\n",
    "R0_g_symp = simplify(rot_yaw(y)* rot_pitch(p) * rot_roll(r))\n",
    "R_corr = rot_yaw(pi) * rot_pitch(-pi/2)"
   ]
  },
  {
   "cell_type": "code",
   "execution_count": 14,
   "metadata": {},
   "outputs": [],
   "source": [
    "# px, py, pz = 2.1529, 0, 1.9465 # initial position\n",
    "px, py, pz = 0.49792, 1.3673, 2.4988\n",
    "roll, pitch, yaw = 0.366, -0.078, 2.561\n",
    "# roll, pitch, yaw =0,0,0\n",
    "pg_0 = Matrix([[px],[py],[pz]])\n",
    "R0_g = R0_g_symp.evalf(subs={r: roll, p: pitch, y: yaw})"
   ]
  },
  {
   "cell_type": "markdown",
   "metadata": {},
   "source": [
    "### Wrist center and theta1"
   ]
  },
  {
   "cell_type": "code",
   "execution_count": 15,
   "metadata": {},
   "outputs": [
    {
     "data": {
      "text/plain": [
       "Matrix([\n",
       "[0.750499428337951],\n",
       "[ 1.20160389781975],\n",
       "[ 2.47518995758694]])"
      ]
     },
     "execution_count": 15,
     "metadata": {},
     "output_type": "execute_result"
    }
   ],
   "source": [
    "pwc_0 = simplify(pg_0 - (0.303) * R0_g[0:3, 0:3]  * R_corr * Matrix([[0],[0],[1]]))\n",
    "pwc_0"
   ]
  },
  {
   "cell_type": "code",
   "execution_count": 20,
   "metadata": {
    "collapsed": true
   },
   "outputs": [],
   "source": [
    "p_link5 = Matrix([[0.75044],[1.2049],[2.4576]])"
   ]
  },
  {
   "cell_type": "code",
   "execution_count": 21,
   "metadata": {},
   "outputs": [
    {
     "data": {
      "text/plain": [
       "0.0178962127060553"
      ]
     },
     "execution_count": 21,
     "metadata": {},
     "output_type": "execute_result"
    }
   ],
   "source": [
    "p5_error = pwc_0 - p_link5\n",
    "p5_error.norm()"
   ]
  },
  {
   "cell_type": "code",
   "execution_count": 22,
   "metadata": {},
   "outputs": [
    {
     "data": {
      "text/plain": [
       "1.0124980936377144"
      ]
     },
     "execution_count": 22,
     "metadata": {},
     "output_type": "execute_result"
    }
   ],
   "source": [
    "theta1 = atan2(pwc_0[1], pwc_0[0])\n",
    "np.float64(theta1)"
   ]
  },
  {
   "cell_type": "markdown",
   "metadata": {},
   "source": [
    "### theta3 and theta2"
   ]
  },
  {
   "cell_type": "code",
   "execution_count": 23,
   "metadata": {
    "collapsed": true
   },
   "outputs": [],
   "source": [
    "p2_sym = T0_2 * Matrix([0,0,0,1])\n",
    "p2_0 = p2_sym.evalf(subs={q1: theta1})\n",
    "pwc_2 = pwc_0 - p2_0[0:3,:]"
   ]
  },
  {
   "cell_type": "code",
   "execution_count": 24,
   "metadata": {
    "collapsed": true
   },
   "outputs": [],
   "source": [
    "l23 = a2\n",
    "l35 = sqrt(a3**2 + d4**2)\n",
    "p25 = sqrt(np.sum(np.square(pwc_2)))"
   ]
  },
  {
   "cell_type": "code",
   "execution_count": 25,
   "metadata": {},
   "outputs": [
    {
     "data": {
      "text/plain": [
       "-0.11568665105374737"
      ]
     },
     "execution_count": 25,
     "metadata": {},
     "output_type": "execute_result"
    }
   ],
   "source": [
    "theta3_1 = atan2(a3,d4)\n",
    "c235 = (np.sum(np.square(pwc_2)) - l23**2 - l35**2) / (2*l23*l35)\n",
    "theta3_2 = atan2(sqrt(1-c235**2), c235)\n",
    "# theta3_phi = atan2(-sqrt(1-c235**2), c235)\n",
    "theta3 = (theta3_2 + theta3_1 - pi/2).subs(s)\n",
    "np.float64(theta3)"
   ]
  },
  {
   "cell_type": "code",
   "execution_count": 26,
   "metadata": {},
   "outputs": [
    {
     "data": {
      "text/plain": [
       "-0.2758003637377226"
      ]
     },
     "execution_count": 26,
     "metadata": {},
     "output_type": "execute_result"
    }
   ],
   "source": [
    "theta2_out = atan2(pwc_2[2], sqrt(pwc_2[0]**2 + pwc_2[1]**2))\n",
    "c523 = (-l35**2 + l23**2 + p25**2) / (2*l23 * p25)\n",
    "theta2_phi = atan2(sqrt(1 - c523**2), c523)\n",
    "theta2 = (pi/2 - (theta2_phi + theta2_out)).subs(s)\n",
    "np.float64(theta2)"
   ]
  },
  {
   "cell_type": "markdown",
   "metadata": {},
   "source": [
    "### theta5, 4, 6"
   ]
  },
  {
   "cell_type": "code",
   "execution_count": 27,
   "metadata": {
    "collapsed": true
   },
   "outputs": [],
   "source": [
    "def Euler_angles_from_matrix_URDF(R):\n",
    "            ''' Calculate q4-6 from R3_6 rotation matrix\n",
    "            Input R is 3x3 rotation matrix, output are Euler angles :q4, q5, q6'''\n",
    "            r12, r13 = R[0,1], R[0,2]\n",
    "            r21, r22, r23 = R[1,0], R[1,1], R[1,2] \n",
    "            r32, r33 = R[2,1], R[2,2]\n",
    "            # # Euler angles from rotation matrix\n",
    "            # q5 = atan2(sqrt(r13**2 + r33**2), r23)\n",
    "            # q4 = atan2(r33, -r13)\n",
    "            # q6 = atan2(-r22, r21)\n",
    "            if np.abs(r23) is not 1:\n",
    "                q5 = atan2(sqrt(r13**2 + r33**2), r23)\n",
    "                q4 = atan2(r33, -r13)\n",
    "                q6 = atan2(-r22, r21)\n",
    "            else:\n",
    "                q6 = 0\n",
    "                if r23 == -1:\n",
    "                    q5 = 0\n",
    "                    q4 = q6 + atan2(-r12, -r32)\n",
    "                else:\n",
    "                    q5 = 0\n",
    "                    q4 = -q6 + atan2(r12, r32)\n",
    "\n",
    "            return np.float64(q4), np.float64(q5), np.float64(q6)"
   ]
  },
  {
   "cell_type": "code",
   "execution_count": 28,
   "metadata": {
    "collapsed": true
   },
   "outputs": [],
   "source": [
    "R0_3 = T0_3[0:3, 0:3]\n",
    "R0_3_inv = simplify(R0_3 ** -1)"
   ]
  },
  {
   "cell_type": "code",
   "execution_count": 29,
   "metadata": {},
   "outputs": [
    {
     "data": {
      "text/plain": [
       "Matrix([\n",
       "[ 0.724593522747684,  -0.686240627701868, 0.0635454772855438],\n",
       "[ 0.684432983034957,   0.727340296077276, 0.0502750975741564],\n",
       "[-0.080720000780301, 0.00706361051918319,  0.996711787268748]])"
      ]
     },
     "execution_count": 29,
     "metadata": {},
     "output_type": "execute_result"
    }
   ],
   "source": [
    "R0_3_inv_value = R0_3_inv.evalf(subs={q1:theta1, q2:theta2, q3:theta3})\n",
    "R3_6 =  R0_3_inv_value * R0_g * R_corr\n",
    "R3_6"
   ]
  },
  {
   "cell_type": "code",
   "execution_count": 30,
   "metadata": {},
   "outputs": [],
   "source": [
    "theta4, theta5, theta6 = Euler_angles_from_matrix_URDF(R3_6)"
   ]
  },
  {
   "cell_type": "code",
   "execution_count": 31,
   "metadata": {},
   "outputs": [
    {
     "data": {
      "text/plain": [
       "(1.6344652724032285, 1.5205000259943031, -0.81578130619968381)"
      ]
     },
     "execution_count": 31,
     "metadata": {},
     "output_type": "execute_result"
    }
   ],
   "source": [
    "theta4, theta5, theta6"
   ]
  },
  {
   "cell_type": "code",
   "execution_count": 32,
   "metadata": {},
   "outputs": [
    {
     "name": "stdout",
     "output_type": "stream",
     "text": [
      "T_total =  Matrix([\n",
      "[-0.833595473062543,  -0.48887208255965, 0.257143295038827, 0.49792],\n",
      "[  0.54685182237706, -0.796053601157403, 0.259329420712765,  1.3673],\n",
      "[0.0779209320563016,  0.356795110642117,  0.93092726749696,  2.4988],\n",
      "[                 0,                  0,                 0,     1.0]])\n"
     ]
    }
   ],
   "source": [
    "# # Numerically evaluate transforms\n",
    "state = {q1:\ttheta1, q2:\ttheta2, q3: theta3, \n",
    "         q4: \ttheta4, q5:\ttheta5, q6:\ttheta6}\n",
    "print(\"T_total = \", T_total.evalf(subs=state))"
   ]
  },
  {
   "cell_type": "code",
   "execution_count": null,
   "metadata": {
    "collapsed": true
   },
   "outputs": [],
   "source": []
  }
 ],
 "metadata": {
  "kernelspec": {
   "display_name": "Python 3",
   "language": "python",
   "name": "python3"
  },
  "language_info": {
   "codemirror_mode": {
    "name": "ipython",
    "version": 3
   },
   "file_extension": ".py",
   "mimetype": "text/x-python",
   "name": "python",
   "nbconvert_exporter": "python",
   "pygments_lexer": "ipython3",
   "version": "3.5.2"
  },
  "widgets": {
   "state": {},
   "version": "1.1.2"
  }
 },
 "nbformat": 4,
 "nbformat_minor": 2
}
