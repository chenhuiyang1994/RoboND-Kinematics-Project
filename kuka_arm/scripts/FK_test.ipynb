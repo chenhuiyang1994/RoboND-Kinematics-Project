{
 "cells": [
  {
   "cell_type": "code",
   "execution_count": 1,
   "metadata": {
    "collapsed": true
   },
   "outputs": [],
   "source": [
    "import numpy as np\n",
    "from sympy import symbols, cos, sin, pi, simplify, sqrt, atan2, asin, acos\n",
    "from sympy.matrices import Matrix"
   ]
  },
  {
   "cell_type": "code",
   "execution_count": 2,
   "metadata": {
    "collapsed": true
   },
   "outputs": [],
   "source": [
    "q1, q2, q3, q4, q5, q6, q7 = symbols('q1:8')\n",
    "d1, d2, d3, d4, d5, d6, d7 = symbols('d1:8')\n",
    "a0, a1, a2, a3, a4, a5, a6 = symbols('a0:7')\n",
    "alpha0, alpha1, alpha2, alpha3, alpha4, alpha5, alpha6 = symbols('alpha0:7')"
   ]
  },
  {
   "cell_type": "code",
   "execution_count": 3,
   "metadata": {
    "collapsed": true
   },
   "outputs": [],
   "source": [
    "def rot_x(q):\n",
    "    M1 = Matrix([[0],[0],[0]])\n",
    "    M2 = Matrix([[0, 0, 0, 1]])\n",
    "    Rx = Matrix([[  1,      0,       0],\n",
    "                 [  0, cos(q), -sin(q)],\n",
    "                 [  0, sin(q),  cos(q)]])\n",
    "    rot_x = Rx.row_join(M1)\n",
    "    rot_x = rot_x.col_join(M2)\n",
    "    return rot_x\n",
    "    \n",
    "def rot_y(q):   \n",
    "    M1 = Matrix([[0],[0],[0]])\n",
    "    M2 = Matrix([[0, 0, 0, 1]])\n",
    "    Ry = Matrix([[ cos(q),     0, sin(q)],\n",
    "                 [      0,     1,      0],\n",
    "                 [-sin(q),     0, cos(q)]])\n",
    "    rot_y = Ry.row_join(M1)\n",
    "    rot_y = rot_y.col_join(M2)\n",
    "    return rot_y\n",
    "\n",
    "def rot_z(q):   \n",
    "    M1 = Matrix([[0],[0],[0]])\n",
    "    M2 = Matrix([[0, 0, 0, 1]])\n",
    "    Rz = Matrix([[ cos(q),-sin(q), 0],\n",
    "                 [ sin(q), cos(q), 0],\n",
    "                 [      0,      0, 1]])\n",
    "    rot_z = Rz.row_join(M1)\n",
    "    rot_z = rot_z.col_join(M2)\n",
    "    return rot_z\n",
    "\n",
    "def trans_x(d):\n",
    "    M1 = Matrix(np.eye(3))\n",
    "    M2 = Matrix([[d],[0],[0]])\n",
    "    M3 = Matrix([[0, 0, 0, 1]])\n",
    "    Trans_x = M1.row_join(M2)\n",
    "    Trans_x = Trans_x.col_join(M3)\n",
    "    return Trans_x\n",
    "\n",
    "def trans_y(d):\n",
    "    M1 = Matrix(np.eye(3))\n",
    "    M2 = Matrix([[0],[d],[0]])\n",
    "    M3 = Matrix([[0, 0, 0, 1]])\n",
    "    Trans_y = M1.row_join(M2)\n",
    "    Trans_y = Trans_y.col_join(M3)\n",
    "    return Trans_y\n",
    "\n",
    "def trans_z(d):\n",
    "    M1 = Matrix(np.eye(3))\n",
    "    M2 = Matrix([[0],[0],[d]])\n",
    "    M3 = Matrix([[0, 0, 0, 1]])\n",
    "    Trans_z = M1.row_join(M2)\n",
    "    Trans_z = Trans_z.col_join(M3)\n",
    "    return Trans_z\n",
    "\n",
    "def DH_transform(q1, d1, alpha0, a0):\n",
    "    '''The modified DH convention transform matrix\n",
    "    alpha0: twist angle, a0: link length, \n",
    "    d1: link offset, q1: joint angle'''\n",
    "    T0_1 = Matrix([[cos(q1), -sin(q1),      0,    a0],\n",
    "                   [sin(q1) * cos(alpha0), cos(q1) * cos(alpha0), -sin(alpha0), -sin(alpha0) * d1],\n",
    "                   [sin(q1) * sin(alpha0), cos(q1) * sin(alpha0),  cos(alpha0),  cos(alpha0) * d1],\n",
    "                   [0,              0,      0,     1]])\n",
    "    return T0_1"
   ]
  },
  {
   "cell_type": "code",
   "execution_count": 4,
   "metadata": {
    "collapsed": true
   },
   "outputs": [],
   "source": [
    "# The Modified DH params\n",
    "s = {alpha0:       0, a0:      0, d1:  0.75,\n",
    "     alpha1: -pi / 2, a1:   0.35, d2:     0, q2: q2 - pi / 2,\n",
    "     alpha2:       0, a2:   1.25, d3:     0,\n",
    "     alpha3: -pi / 2, a3: -0.054, d4:   1.5,\n",
    "     alpha4:  pi / 2, a4:      0, d5:     0,\n",
    "     alpha5: -pi / 2, a5:      0, d6:     0,\n",
    "     alpha6:       0, a6:      0, d7: 0.303, q7: 0}"
   ]
  },
  {
   "cell_type": "code",
   "execution_count": 5,
   "metadata": {
    "collapsed": true
   },
   "outputs": [],
   "source": [
    "# Define Modified DH Transformation matrix\n",
    "# base_link to link1\n",
    "T0_1 = DH_transform(q1, d1, alpha0, a0)\n",
    "T0_1 = T0_1.subs(s)\n",
    "# linke1 to link 2\n",
    "T1_2 = DH_transform(q2, d2, alpha1, a1)\n",
    "T1_2 = T1_2.subs(s)\n",
    "# link2 to link3\n",
    "T2_3 = DH_transform(q3, d3, alpha2, a2)\n",
    "T2_3 = T2_3.subs(s)\n",
    "# link3 to link4\n",
    "T3_4 = DH_transform(q4, d4, alpha3, a3)\n",
    "T3_4 = T3_4.subs(s)\n",
    "# link4 to link5\n",
    "T4_5 = DH_transform(q5, d5, alpha4, a4)\n",
    "T4_5 = T4_5.subs(s)\n",
    "# link5 to link6\n",
    "T5_6 = DH_transform(q6, d6, alpha5, a5)\n",
    "T5_6 = T5_6.subs(s)\n",
    "# link6 to end-effector\n",
    "T6_7 = DH_transform(q7, d7, alpha6, a6)\n",
    "T6_7 = T6_7.subs(s)"
   ]
  },
  {
   "cell_type": "code",
   "execution_count": 6,
   "metadata": {
    "collapsed": true
   },
   "outputs": [],
   "source": [
    "# Create individual transformation matrices\n",
    "T0_2 = simplify(T0_1 * T1_2)\n",
    "T0_3 = simplify(T0_2 * T2_3)\n",
    "T0_4 = simplify(T0_3 * T3_4)\n",
    "T0_5 = simplify(T0_4 * T4_5)\n",
    "T0_6 = simplify(T0_5 * T5_6)\n",
    "T0_G = simplify(T0_6 * T6_7)\n",
    "\n",
    "R_corr = rot_z(pi) * rot_y(-pi/2)\n",
    "T_total = simplify(T0_G * R_corr)"
   ]
  },
  {
   "cell_type": "code",
   "execution_count": null,
   "metadata": {},
   "outputs": [],
   "source": [
    "# # Numerically evaluate transforms\n",
    "# state = {q1:\t-0.36, q2:\t0.24, q3: -0.69, \n",
    "#          q4: \t1.7, q5:\t-0.36, q6:\t2.25}\n",
    "# # print(\"T0_1 = \", T0_1.evalf(subs=state))\n",
    "# # print(\"T0_2 = \", T0_2.evalf(subs=state))\n",
    "# # print(\"T0_3 = \", T0_3.evalf(subs=state))\n",
    "# # print(\"T0_4 = \", T0_4.evalf(subs=state))\n",
    "# print(\"T0_5 = \", T0_5.evalf(subs=state))\n",
    "# print(\"T0_6 = \", T0_6.evalf(subs=state))\n",
    "# print(\"T0_G = \", T0_G.evalf(subs=state))\n",
    "# print(\"T_total = \", T_total.evalf(subs=state))"
   ]
  },
  {
   "cell_type": "markdown",
   "metadata": {},
   "source": [
    "### Inverse Kinematics"
   ]
  },
  {
   "cell_type": "code",
   "execution_count": null,
   "metadata": {},
   "outputs": [],
   "source": [
    "def Qua_to_Euler_Angle(x, y, z, w):\n",
    "    '''Transfer Quaternion angle to Eulerian Angle'''\n",
    "    ysqr = y*y\n",
    "    \n",
    "    t0 = +2.0 * (w * x + y*z)\n",
    "    t1 = +1.0 - 2.0 * (x*x + ysqr)\n",
    "    X = atan2(t0, t1)\n",
    "    \n",
    "    t2 = +2.0 * (w*y - z*x)\n",
    "    t2 =  1 if t2 > 1 else t2\n",
    "    t2 = -1 if t2 < -1 else t2\n",
    "    Y = asin(t2)\n",
    "    \n",
    "    t3 = +2.0 * (w * z + x*y)\n",
    "    t4 = +1.0 - 2.0 * (ysqr + z*z)\n",
    "    Z = atan2(t3, t4)\n",
    "    return X, Y, Z "
   ]
  },
  {
   "cell_type": "code",
   "execution_count": 7,
   "metadata": {
    "collapsed": true
   },
   "outputs": [],
   "source": [
    "def rot_roll(q):\n",
    "    R_x = Matrix([[      1,      0,      0],\n",
    "                  [      0, cos(q), -sin(q)],\n",
    "                  [      0, sin(q),  cos(q)]])\n",
    "    return R_x\n",
    "    \n",
    "def rot_pitch(q):              \n",
    "    R_y = Matrix([[ cos(q),     0, sin(q)],\n",
    "                  [      0,     1,      0],\n",
    "                  [-sin(q),     0, cos(q)]]) \n",
    "    return R_y\n",
    "\n",
    "def rot_yaw(q):    \n",
    "    R_z = Matrix([[ cos(q),-sin(q), 0],\n",
    "                  [ sin(q), cos(q), 0],\n",
    "                  [      0,      0, 1]])  \n",
    "    return R_z"
   ]
  },
  {
   "cell_type": "code",
   "execution_count": 80,
   "metadata": {
    "collapsed": true
   },
   "outputs": [],
   "source": [
    "r, p, y = symbols(\"r p y\") # end-effector orientation\n",
    "R0_g_symp = simplify(rot_roll(r) * rot_pitch(p) * rot_yaw(y))\n",
    "R_corr = rot_yaw(pi) * rot_pitch(-pi/2)"
   ]
  },
  {
   "cell_type": "code",
   "execution_count": 81,
   "metadata": {},
   "outputs": [],
   "source": [
    "# px, py, pz = 2.1529, 0, 1.9465 # initial position\n",
    "px, py, pz = 0.85,-2.0386,1.7822\n",
    "roll, pitch, yaw =0.161,0.915,-0.928\n",
    "# roll, pitch, yaw =0,0,0\n",
    "pg_0 = Matrix([[px],[py],[pz]])\n",
    "R0_g = R0_g_symp.evalf(subs={r: roll, p: pitch, y: yaw})"
   ]
  },
  {
   "cell_type": "markdown",
   "metadata": {},
   "source": [
    "### Wrist center and theta1"
   ]
  },
  {
   "cell_type": "code",
   "execution_count": 82,
   "metadata": {},
   "outputs": [
    {
     "data": {
      "text/plain": [
       "Matrix([\n",
       "[ 0.73924427701829],\n",
       "[-1.82228477914388],\n",
       "[ 1.96316932075014]])"
      ]
     },
     "execution_count": 82,
     "metadata": {},
     "output_type": "execute_result"
    }
   ],
   "source": [
    "pwc_0 = simplify(pg_0 - (0.303) * R0_g[0:3, 0:3]  * R_corr * Matrix([[0],[0],[1]]))\n",
    "pwc_0"
   ]
  },
  {
   "cell_type": "code",
   "execution_count": 64,
   "metadata": {},
   "outputs": [
    {
     "data": {
      "text/plain": [
       "1.16327429142394"
      ]
     },
     "execution_count": 64,
     "metadata": {},
     "output_type": "execute_result"
    }
   ],
   "source": [
    "theta1 = atan2(pwc_0[1], pwc_0[0])\n",
    "theta1"
   ]
  },
  {
   "cell_type": "markdown",
   "metadata": {},
   "source": [
    "### theta3 and theta2"
   ]
  },
  {
   "cell_type": "code",
   "execution_count": 77,
   "metadata": {},
   "outputs": [],
   "source": [
    "p2_sym = T0_2 * Matrix([0,0,0,1])\n",
    "p2_0 = p2_sym.evalf(subs={q1: theta1})\n",
    "pwc_2 = pwc_0 - p2_0[0:3,:]"
   ]
  },
  {
   "cell_type": "code",
   "execution_count": 66,
   "metadata": {},
   "outputs": [],
   "source": [
    "l23 = a2\n",
    "l35 = sqrt(a3**2 + d4**2)\n",
    "p25 = sqrt(np.sum(np.square(pwc_2)))"
   ]
  },
  {
   "cell_type": "code",
   "execution_count": 67,
   "metadata": {},
   "outputs": [],
   "source": [
    "theta3_1 = atan2(a3,d4)\n",
    "c235 = (np.sum(np.square(pwc_2)) - l23**2 - l35**2) / (2*l23*l35)\n",
    "theta3_phi = atan2(sqrt(1-c235**2), c235)\n",
    "# theta3_phi = atan2(-sqrt(1-c235**2), c235)\n",
    "theta3 = (theta3_phi + theta3_1 - pi/2).subs(s)"
   ]
  },
  {
   "cell_type": "code",
   "execution_count": 68,
   "metadata": {},
   "outputs": [
    {
     "data": {
      "text/plain": [
       "-1.42620299451839 + pi/2"
      ]
     },
     "execution_count": 68,
     "metadata": {},
     "output_type": "execute_result"
    }
   ],
   "source": [
    "theta2_out = atan2(pwc_2[2], sqrt(pwc_2[0]**2 + pwc_2[1]**2))\n",
    "c523 = (-l35**2 + l23**2 + p25**2) / (2*l23 * p25)\n",
    "theta2_phi = atan2(sqrt(1 - c523**2), c523)\n",
    "theta2 = (pi/2 - (theta2_phi + theta2_out)).subs(s)\n",
    "theta2"
   ]
  },
  {
   "cell_type": "markdown",
   "metadata": {},
   "source": [
    "### theta5"
   ]
  },
  {
   "cell_type": "code",
   "execution_count": 69,
   "metadata": {
    "collapsed": true
   },
   "outputs": [],
   "source": [
    "R0_3 = T0_3[0:3, 0:3]\n",
    "R0_3_inv = simplify(R0_3 ** -1)"
   ]
  },
  {
   "cell_type": "code",
   "execution_count": 70,
   "metadata": {},
   "outputs": [
    {
     "data": {
      "text/plain": [
       "Matrix([\n",
       "[ 0.231825972759274,  -0.356413827716405, 0.905110988645457],\n",
       "[0.0208181910891808,   0.932063946372927, 0.361695179386593],\n",
       "[-0.972534483334134, -0.0650075632850986, 0.223496522213978]])"
      ]
     },
     "execution_count": 70,
     "metadata": {},
     "output_type": "execute_result"
    }
   ],
   "source": [
    "R0_3_inv_value = R0_3_inv.evalf(subs={q1:theta1, q2:theta2, q3:theta3})\n",
    "R3_6 =  R0_3_inv_value * R0_g\n",
    "R3_6"
   ]
  },
  {
   "cell_type": "code",
   "execution_count": 71,
   "metadata": {},
   "outputs": [],
   "source": [
    "r11, r21, r31 = R3_6[0,0], R3_6[1,0], R3_6[2,0]\n",
    "r32, r33 = R3_6[2,1], R3_6[2,2]\n",
    "\n",
    "# Euler angles from rotation matrix\n",
    "beta = atan2(-r31, sqrt(r11**2 + r21**2))\n",
    "gamma = atan2(r32, r33)\n",
    "alpha = atan2(r21, r11)"
   ]
  },
  {
   "cell_type": "code",
   "execution_count": 72,
   "metadata": {},
   "outputs": [
    {
     "data": {
      "text/plain": [
       "(0.0895607136183968, 1.33588284708013, -0.283056154507999)"
      ]
     },
     "execution_count": 72,
     "metadata": {},
     "output_type": "execute_result"
    }
   ],
   "source": [
    "alpha, beta, gamma"
   ]
  },
  {
   "cell_type": "code",
   "execution_count": null,
   "metadata": {
    "collapsed": true
   },
   "outputs": [],
   "source": []
  },
  {
   "cell_type": "code",
   "execution_count": 73,
   "metadata": {},
   "outputs": [],
   "source": [
    "zg = R0_g * Matrix([[0],[0],[1]])"
   ]
  },
  {
   "cell_type": "code",
   "execution_count": 74,
   "metadata": {},
   "outputs": [],
   "source": [
    "y3 = (R0_3 * Matrix([[1],[0],[0]])).evalf(subs={q1:theta1, q2:theta2, q3:theta3})"
   ]
  },
  {
   "cell_type": "code",
   "execution_count": 75,
   "metadata": {},
   "outputs": [
    {
     "data": {
      "text/plain": [
       "0.439155635907489"
      ]
     },
     "execution_count": 75,
     "metadata": {},
     "output_type": "execute_result"
    }
   ],
   "source": [
    "acos(y3.dot(zg))"
   ]
  },
  {
   "cell_type": "code",
   "execution_count": null,
   "metadata": {
    "collapsed": true
   },
   "outputs": [],
   "source": [
    "acos(Matrix([[0],[0],[1]]).dot(Matrix([[0],[1],[0]])))"
   ]
  }
 ],
 "metadata": {
  "kernelspec": {
   "display_name": "Python 3",
   "language": "python",
   "name": "python3"
  },
  "language_info": {
   "codemirror_mode": {
    "name": "ipython",
    "version": 3
   },
   "file_extension": ".py",
   "mimetype": "text/x-python",
   "name": "python",
   "nbconvert_exporter": "python",
   "pygments_lexer": "ipython3",
   "version": "3.5.2"
  },
  "widgets": {
   "state": {},
   "version": "1.1.2"
  }
 },
 "nbformat": 4,
 "nbformat_minor": 2
}
