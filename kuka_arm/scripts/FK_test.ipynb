{
 "cells": [
  {
   "cell_type": "code",
   "execution_count": 1,
   "metadata": {
    "collapsed": true
   },
   "outputs": [],
   "source": [
    "import numpy as np\n",
    "from sympy import symbols, cos, sin, pi, simplify, sqrt, atan2, asin, acos\n",
    "from sympy.matrices import Matrix"
   ]
  },
  {
   "cell_type": "code",
   "execution_count": 2,
   "metadata": {
    "collapsed": true
   },
   "outputs": [],
   "source": [
    "q1, q2, q3, q4, q5, q6, q7 = symbols('q1:8')\n",
    "d1, d2, d3, d4, d5, d6, d7 = symbols('d1:8')\n",
    "a0, a1, a2, a3, a4, a5, a6 = symbols('a0:7')\n",
    "alpha0, alpha1, alpha2, alpha3, alpha4, alpha5, alpha6 = symbols('alpha0:7')"
   ]
  },
  {
   "cell_type": "code",
   "execution_count": 3,
   "metadata": {
    "collapsed": true
   },
   "outputs": [],
   "source": [
    "def rot_x(q):\n",
    "    M1 = Matrix([[0],[0],[0]])\n",
    "    M2 = Matrix([[0, 0, 0, 1]])\n",
    "    Rx = Matrix([[  1,      0,       0],\n",
    "                 [  0, cos(q), -sin(q)],\n",
    "                 [  0, sin(q),  cos(q)]])\n",
    "    rot_x = Rx.row_join(M1)\n",
    "    rot_x = rot_x.col_join(M2)\n",
    "    return rot_x\n",
    "    \n",
    "def rot_y(q):   \n",
    "    M1 = Matrix([[0],[0],[0]])\n",
    "    M2 = Matrix([[0, 0, 0, 1]])\n",
    "    Ry = Matrix([[ cos(q),     0, sin(q)],\n",
    "                 [      0,     1,      0],\n",
    "                 [-sin(q),     0, cos(q)]])\n",
    "    rot_y = Ry.row_join(M1)\n",
    "    rot_y = rot_y.col_join(M2)\n",
    "    return rot_y\n",
    "\n",
    "def rot_z(q):   \n",
    "    M1 = Matrix([[0],[0],[0]])\n",
    "    M2 = Matrix([[0, 0, 0, 1]])\n",
    "    Rz = Matrix([[ cos(q),-sin(q), 0],\n",
    "                 [ sin(q), cos(q), 0],\n",
    "                 [      0,      0, 1]])\n",
    "    rot_z = Rz.row_join(M1)\n",
    "    rot_z = rot_z.col_join(M2)\n",
    "    return rot_z\n",
    "\n",
    "def trans_x(d):\n",
    "    M1 = Matrix(np.eye(3))\n",
    "    M2 = Matrix([[d],[0],[0]])\n",
    "    M3 = Matrix([[0, 0, 0, 1]])\n",
    "    Trans_x = M1.row_join(M2)\n",
    "    Trans_x = Trans_x.col_join(M3)\n",
    "    return Trans_x\n",
    "\n",
    "def trans_y(d):\n",
    "    M1 = Matrix(np.eye(3))\n",
    "    M2 = Matrix([[0],[d],[0]])\n",
    "    M3 = Matrix([[0, 0, 0, 1]])\n",
    "    Trans_y = M1.row_join(M2)\n",
    "    Trans_y = Trans_y.col_join(M3)\n",
    "    return Trans_y\n",
    "\n",
    "def trans_z(d):\n",
    "    M1 = Matrix(np.eye(3))\n",
    "    M2 = Matrix([[0],[0],[d]])\n",
    "    M3 = Matrix([[0, 0, 0, 1]])\n",
    "    Trans_z = M1.row_join(M2)\n",
    "    Trans_z = Trans_z.col_join(M3)\n",
    "    return Trans_z\n",
    "\n",
    "def DH_transform(q1, d1, alpha0, a0):\n",
    "    '''The modified DH convention transform matrix\n",
    "    alpha0: twist angle, a0: link length, \n",
    "    d1: link offset, q1: joint angle'''\n",
    "    T0_1 = Matrix([[cos(q1), -sin(q1),      0,    a0],\n",
    "                   [sin(q1) * cos(alpha0), cos(q1) * cos(alpha0), -sin(alpha0), -sin(alpha0) * d1],\n",
    "                   [sin(q1) * sin(alpha0), cos(q1) * sin(alpha0),  cos(alpha0),  cos(alpha0) * d1],\n",
    "                   [0,              0,      0,     1]])\n",
    "    return T0_1"
   ]
  },
  {
   "cell_type": "code",
   "execution_count": 4,
   "metadata": {
    "collapsed": true
   },
   "outputs": [],
   "source": [
    "# The Modified DH params\n",
    "s = {alpha0:       0, a0:      0, d1:  0.75,\n",
    "     alpha1: -pi / 2, a1:   0.35, d2:     0, q2: q2 - pi / 2,\n",
    "     alpha2:       0, a2:   1.25, d3:     0,\n",
    "     alpha3: -pi / 2, a3: -0.054, d4:   1.5,\n",
    "     alpha4:  pi / 2, a4:      0, d5:     0,\n",
    "     alpha5: -pi / 2, a5:      0, d6:     0,\n",
    "     alpha6:       0, a6:      0, d7: 0.303, q7: 0}"
   ]
  },
  {
   "cell_type": "code",
   "execution_count": 5,
   "metadata": {
    "collapsed": true
   },
   "outputs": [],
   "source": [
    "# Define Modified DH Transformation matrix\n",
    "# base_link to link1\n",
    "T0_1 = DH_transform(q1, d1, alpha0, a0)\n",
    "T0_1 = T0_1.subs(s)\n",
    "# linke1 to link 2\n",
    "T1_2 = DH_transform(q2, d2, alpha1, a1)\n",
    "T1_2 = T1_2.subs(s)\n",
    "# link2 to link3\n",
    "T2_3 = DH_transform(q3, d3, alpha2, a2)\n",
    "T2_3 = T2_3.subs(s)\n",
    "# link3 to link4\n",
    "T3_4 = DH_transform(q4, d4, alpha3, a3)\n",
    "T3_4 = T3_4.subs(s)\n",
    "# link4 to link5\n",
    "T4_5 = DH_transform(q5, d5, alpha4, a4)\n",
    "T4_5 = T4_5.subs(s)\n",
    "# link5 to link6\n",
    "T5_6 = DH_transform(q6, d6, alpha5, a5)\n",
    "T5_6 = T5_6.subs(s)\n",
    "# link6 to end-effector\n",
    "T6_7 = DH_transform(q7, d7, alpha6, a6)\n",
    "T6_7 = T6_7.subs(s)"
   ]
  },
  {
   "cell_type": "code",
   "execution_count": 6,
   "metadata": {
    "collapsed": true
   },
   "outputs": [],
   "source": [
    "# Create individual transformation matrices\n",
    "T0_2 = simplify(T0_1 * T1_2)\n",
    "T0_3 = simplify(T0_2 * T2_3)\n",
    "T0_4 = simplify(T0_3 * T3_4)\n",
    "T0_5 = simplify(T0_4 * T4_5)\n",
    "T0_6 = simplify(T0_5 * T5_6)\n",
    "T0_G = simplify(T0_6 * T6_7)\n",
    "\n",
    "R_corr = rot_z(pi) * rot_y(-pi/2)\n",
    "T_total = simplify(T0_G * R_corr)"
   ]
  },
  {
   "cell_type": "code",
   "execution_count": null,
   "metadata": {},
   "outputs": [],
   "source": [
    "import pickle\n",
    "import os\n",
    "if not os.path.exists(\"T_final.p\"):\n",
    "    pickle.dump(T0_1, open(\"T0_1.p\", \"wb\"))\n",
    "    pickle.dump(T0_2, open(\"T0_2.p\", \"wb\"))\n",
    "    pickle.dump(T0_3, open(\"T0_3.p\", \"wb\"))\n",
    "    pickle.dump(T0_4, open(\"T0_4.p\", \"wb\"))\n",
    "    pickle.dump(T0_5, open(\"T0_5.p\", \"wb\"))\n",
    "    pickle.dump(T0_6, open(\"T0_6.p\", \"wb\"))\n",
    "    pickle.dump(T0_G, open(\"T0_G.p\", \"wb\"))\n",
    "    pickle.dump(T_total, open(\"T_final.p\", \"wb\"))\n",
    "else:\n",
    "    T0_1 = pickle.load(open( \"T0_1.p\", \"rb\" ) )\n",
    "    T0_2 = pickle.load(open( \"T0_2.p\", \"rb\" ) )\n",
    "    T0_3 = pickle.load(open( \"T0_3.p\", \"rb\" ) )\n",
    "    T0_4 = pickle.load(open( \"T0_4.p\", \"rb\" ) )\n",
    "    T0_5 = pickle.load(open( \"T0_5.p\", \"rb\" ) )\n",
    "    T0_6 = pickle.load(open( \"T0_6.p\", \"rb\" ) )\n",
    "    T0_G = pickle.load(open( \"T0_G.p\", \"rb\" ) )\n",
    "    T_total = pickle.load(open( \"T_total.p\", \"rb\" ) )"
   ]
  },
  {
   "cell_type": "code",
   "execution_count": 77,
   "metadata": {},
   "outputs": [
    {
     "name": "stdout",
     "output_type": "stream",
     "text": [
      "T_total =  Matrix([\n",
      "[-0.305510447647209,  0.829998323768836, -0.466654207009134, -1.55536211615731],\n",
      "[-0.665227018438015, -0.536697343476575,  -0.51906548281046, -1.59631802834278],\n",
      "[-0.681275553882914,  0.151851058758604,   0.71610395588589, 0.812872468346439],\n",
      "[                 0,                  0,                  0,               1.0]])\n"
     ]
    }
   ],
   "source": [
    "# # Numerically evaluate transforms\n",
    "state = {q1:\t-2.38, q2:\t0.38, q3: 0.22, \n",
    "         q4: \t4.13, q5:\t-0.33, q6:\t-4.16}\n",
    "# # print(\"T0_1 = \", T0_1.evalf(subs=state))\n",
    "# # print(\"T0_2 = \", T0_2.evalf(subs=state))\n",
    "# # print(\"T0_3 = \", T0_3.evalf(subs=state))\n",
    "# # print(\"T0_4 = \", T0_4.evalf(subs=state))\n",
    "# print(\"T0_5 = \", T0_5.evalf(subs=state))\n",
    "# print(\"T0_6 = \", T0_6.evalf(subs=state))\n",
    "# print(\"T0_G = \", T0_G.evalf(subs=state))\n",
    "print(\"T_total = \", T_total.evalf(subs=state))"
   ]
  },
  {
   "cell_type": "code",
   "execution_count": 78,
   "metadata": {},
   "outputs": [],
   "source": [
    "# gripper position from FK calculation\n",
    "position_fk = T_total.evalf(subs=state)[0:3,3]\n",
    "# gripper position from rviz simulator\n",
    "position_g = Matrix([[-1.5438], [-1.601], [0.81447]])"
   ]
  },
  {
   "cell_type": "code",
   "execution_count": 79,
   "metadata": {},
   "outputs": [
    {
     "name": "stdout",
     "output_type": "stream",
     "text": [
      "Calculation error:  Matrix([\n",
      "[ -0.0115621161573147],\n",
      "[ 0.00468197165721529],\n",
      "[-0.00159753165356069]])\n"
     ]
    }
   ],
   "source": [
    "position_error = position_fk - position_g\n",
    "print(\"Calculation error: \", position_error)"
   ]
  },
  {
   "cell_type": "code",
   "execution_count": 80,
   "metadata": {},
   "outputs": [
    {
     "data": {
      "text/plain": [
       "0.0125759888684085"
      ]
     },
     "execution_count": 80,
     "metadata": {},
     "output_type": "execute_result"
    }
   ],
   "source": [
    "position_error.norm()"
   ]
  },
  {
   "cell_type": "markdown",
   "metadata": {},
   "source": [
    "### Inverse Kinematics"
   ]
  },
  {
   "cell_type": "code",
   "execution_count": 44,
   "metadata": {
    "collapsed": true
   },
   "outputs": [],
   "source": [
    "def rot_roll(q):\n",
    "    R_x = Matrix([[      1,      0,      0],\n",
    "                  [      0, cos(q), -sin(q)],\n",
    "                  [      0, sin(q),  cos(q)]])\n",
    "    return R_x\n",
    "    \n",
    "def rot_pitch(q):              \n",
    "    R_y = Matrix([[ cos(q),     0, sin(q)],\n",
    "                  [      0,     1,      0],\n",
    "                  [-sin(q),     0, cos(q)]]) \n",
    "    return R_y\n",
    "\n",
    "def rot_yaw(q):    \n",
    "    R_z = Matrix([[ cos(q),-sin(q), 0],\n",
    "                  [ sin(q), cos(q), 0],\n",
    "                  [      0,      0, 1]])  \n",
    "    return R_z"
   ]
  },
  {
   "cell_type": "code",
   "execution_count": 69,
   "metadata": {},
   "outputs": [
    {
     "data": {
      "text/plain": [
       "Matrix([\n",
       "[                        cos(p)*cos(y),                        -sin(y)*cos(p),         sin(p)],\n",
       "[ sin(p)*sin(r)*cos(y) + sin(y)*cos(r), -sin(p)*sin(r)*sin(y) + cos(r)*cos(y), -sin(r)*cos(p)],\n",
       "[-sin(p)*cos(r)*cos(y) + sin(r)*sin(y),  sin(p)*sin(y)*cos(r) + sin(r)*cos(y),  cos(p)*cos(r)]])"
      ]
     },
     "execution_count": 69,
     "metadata": {},
     "output_type": "execute_result"
    }
   ],
   "source": [
    "simplify(rot_roll(r) * rot_pitch(p) * rot_yaw(y))"
   ]
  },
  {
   "cell_type": "code",
   "execution_count": 70,
   "metadata": {},
   "outputs": [
    {
     "data": {
      "text/plain": [
       "Matrix([\n",
       "[cos(p)*cos(y), sin(p)*sin(r)*cos(y) - sin(y)*cos(r), sin(p)*cos(r)*cos(y) + sin(r)*sin(y)],\n",
       "[sin(y)*cos(p), sin(p)*sin(r)*sin(y) + cos(r)*cos(y), sin(p)*sin(y)*cos(r) - sin(r)*cos(y)],\n",
       "[      -sin(p),                        sin(r)*cos(p),                        cos(p)*cos(r)]])"
      ]
     },
     "execution_count": 70,
     "metadata": {},
     "output_type": "execute_result"
    }
   ],
   "source": [
    "simplify(rot_yaw(y)* rot_pitch(p) * rot_roll(r))"
   ]
  },
  {
   "cell_type": "code",
   "execution_count": null,
   "metadata": {
    "collapsed": true
   },
   "outputs": [],
   "source": []
  },
  {
   "cell_type": "code",
   "execution_count": 62,
   "metadata": {
    "collapsed": true
   },
   "outputs": [],
   "source": [
    "r, p, y = symbols(\"r p y\") # end-effector orientation\n",
    "# R0_g_symp = simplify(rot_roll(r) * rot_pitch(p) * rot_yaw(y))\n",
    "R0_g_symp = simplify( rot_yaw(y)* rot_pitch(p) * rot_roll(r))\n",
    "R_corr = rot_yaw(pi) * rot_pitch(-pi/2)"
   ]
  },
  {
   "cell_type": "code",
   "execution_count": 63,
   "metadata": {
    "collapsed": true
   },
   "outputs": [],
   "source": [
    "# px, py, pz = 2.1529, 0, 1.9465 # initial position\n",
    "px, py, pz = -0.43776, 1.7479, 1.5323\n",
    "roll, pitch, yaw = 0.484, 0.015, 0.146\n",
    "# roll, pitch, yaw =0,0,0\n",
    "pg_0 = Matrix([[px],[py],[pz]])\n",
    "R0_g = R0_g_symp.evalf(subs={r: roll, p: pitch, y: yaw})"
   ]
  },
  {
   "cell_type": "code",
   "execution_count": 48,
   "metadata": {},
   "outputs": [
    {
     "data": {
      "text/plain": [
       "(0.481022640223353, -0.0546094106588307, 0.135801571378406)"
      ]
     },
     "execution_count": 48,
     "metadata": {},
     "output_type": "execute_result"
    }
   ],
   "source": [
    "Q_To_E(0.23936, -0.010299, 0.072359, 0.96818)"
   ]
  },
  {
   "cell_type": "markdown",
   "metadata": {},
   "source": [
    "### Wrist center and theta1"
   ]
  },
  {
   "cell_type": "code",
   "execution_count": 68,
   "metadata": {},
   "outputs": [
    {
     "data": {
      "text/plain": [
       "Matrix([\n",
       "[-0.462251939833829],\n",
       "[   1.8868077233368],\n",
       "[  1.26413253500739]])"
      ]
     },
     "execution_count": 68,
     "metadata": {},
     "output_type": "execute_result"
    }
   ],
   "source": [
    "pwc_0 = simplify(pg_0 - (0.303) * R0_g[0:3, 0:3]  * R_corr * Matrix([[0],[0],[1]]))\n",
    "pwc_0"
   ]
  },
  {
   "cell_type": "code",
   "execution_count": 65,
   "metadata": {
    "collapsed": true
   },
   "outputs": [],
   "source": [
    "p_link5 = Matrix([[-0.73753],[1.7069],[1.158]])"
   ]
  },
  {
   "cell_type": "code",
   "execution_count": 66,
   "metadata": {},
   "outputs": [
    {
     "data": {
      "text/plain": [
       "Matrix([\n",
       "[ 2.73658376828134e-5],\n",
       "[-0.00307604553116825],\n",
       "[   0.378844829564418]])"
      ]
     },
     "execution_count": 66,
     "metadata": {},
     "output_type": "execute_result"
    }
   ],
   "source": [
    "p5_error = pwc_0 - p_link5\n",
    "p5_error"
   ]
  },
  {
   "cell_type": "code",
   "execution_count": 67,
   "metadata": {},
   "outputs": [
    {
     "data": {
      "text/plain": [
       "-1.16229428808577 + pi"
      ]
     },
     "execution_count": 67,
     "metadata": {},
     "output_type": "execute_result"
    }
   ],
   "source": [
    "theta1 = atan2(pwc_0[1], pwc_0[0])\n",
    "theta1"
   ]
  },
  {
   "cell_type": "markdown",
   "metadata": {},
   "source": [
    "### theta3 and theta2"
   ]
  },
  {
   "cell_type": "code",
   "execution_count": null,
   "metadata": {
    "collapsed": true
   },
   "outputs": [],
   "source": [
    "p2_sym = T0_2 * Matrix([0,0,0,1])\n",
    "p2_0 = p2_sym.evalf(subs={q1: theta1})\n",
    "pwc_2 = pwc_0 - p2_0[0:3,:]"
   ]
  },
  {
   "cell_type": "code",
   "execution_count": null,
   "metadata": {
    "collapsed": true
   },
   "outputs": [],
   "source": [
    "l23 = a2\n",
    "l35 = sqrt(a3**2 + d4**2)\n",
    "p25 = sqrt(np.sum(np.square(pwc_2)))"
   ]
  },
  {
   "cell_type": "code",
   "execution_count": null,
   "metadata": {},
   "outputs": [],
   "source": [
    "theta3_1 = atan2(a3,d4)\n",
    "c235 = (np.sum(np.square(pwc_2)) - l23**2 - l35**2) / (2*l23*l35)\n",
    "theta3_phi = atan2(sqrt(1-c235**2), c235)\n",
    "# theta3_phi = atan2(-sqrt(1-c235**2), c235)\n",
    "theta3 = (theta3_phi + theta3_1 - pi/2).subs(s)\n",
    "theta3"
   ]
  },
  {
   "cell_type": "code",
   "execution_count": null,
   "metadata": {},
   "outputs": [],
   "source": [
    "theta2_out = atan2(pwc_2[2], sqrt(pwc_2[0]**2 + pwc_2[1]**2))\n",
    "c523 = (-l35**2 + l23**2 + p25**2) / (2*l23 * p25)\n",
    "theta2_phi = atan2(sqrt(1 - c523**2), c523)\n",
    "theta2 = (pi/2 - (theta2_phi + theta2_out)).subs(s)\n",
    "theta2"
   ]
  },
  {
   "cell_type": "markdown",
   "metadata": {},
   "source": [
    "### theta5, 4, 6"
   ]
  },
  {
   "cell_type": "code",
   "execution_count": null,
   "metadata": {
    "collapsed": true
   },
   "outputs": [],
   "source": [
    "R0_3 = T0_3[0:3, 0:3]\n",
    "R0_3_inv = simplify(R0_3 ** -1)"
   ]
  },
  {
   "cell_type": "code",
   "execution_count": null,
   "metadata": {},
   "outputs": [],
   "source": [
    "R0_3_inv_value = R0_3_inv.evalf(subs={q1:theta1, q2:theta2, q3:theta3})\n",
    "R3_6 =  R0_3_inv_value * R0_g\n",
    "R3_6"
   ]
  },
  {
   "cell_type": "code",
   "execution_count": null,
   "metadata": {},
   "outputs": [],
   "source": [
    "R3_6 = Matrix([[.5, -0.1464, 0.8536],[.5,.8536,-0.1464],[-0.7071,.5,.5]])"
   ]
  },
  {
   "cell_type": "code",
   "execution_count": null,
   "metadata": {
    "collapsed": true
   },
   "outputs": [],
   "source": [
    "r11, r21, r31 = R3_6[0,0], R3_6[1,0], R3_6[2,0]\n",
    "r32, r33 = R3_6[2,1], R3_6[2,2]\n",
    "r12, r13 = R3_6[0,1], R3_6[0,2]\n",
    "r23 = R3_6[1,2]\n",
    "# beta:q5, alpha:q6, gamma: q4.\n",
    "# Euler angles from rotation matrix\n",
    "theta5 = atan2(-r31, sqrt(r11**2 + r21**2)) # y ,theta\n",
    "theta4 = atan2(r32, r33)# x ,psi\n",
    "theta6 = atan2(r21, r11) # z ,phi"
   ]
  },
  {
   "cell_type": "code",
   "execution_count": null,
   "metadata": {},
   "outputs": [],
   "source": [
    "theta4, theta5, theta6"
   ]
  },
  {
   "cell_type": "code",
   "execution_count": null,
   "metadata": {
    "collapsed": true
   },
   "outputs": [],
   "source": [
    "# alpha, beta, gamma\n",
    "# phi, theta, psi"
   ]
  },
  {
   "cell_type": "code",
   "execution_count": null,
   "metadata": {},
   "outputs": [],
   "source": [
    "x = -6.5\n",
    "np.abs(x) % (2) * np.sign(x)"
   ]
  },
  {
   "cell_type": "code",
   "execution_count": null,
   "metadata": {},
   "outputs": [],
   "source": [
    "rot_z(pi) * rot_y(-pi/2)"
   ]
  },
  {
   "cell_type": "code",
   "execution_count": null,
   "metadata": {},
   "outputs": [],
   "source": [
    "if np.abs(r31) is not 1:\n",
    "    beta = atan2(-r31, sqrt(r11**2 + r21**2))\n",
    "    gamma = atan2(r32/cos(beta), r33/cos(beta))\n",
    "    alpha = atan2(r21/cos(beta), r11/cos(beta))\n",
    "else:\n",
    "    alpha = 0\n",
    "    if r31 == -1:\n",
    "        beta = pi/2\n",
    "        gamma = alpha + atan2(r12, r13)\n",
    "    else:\n",
    "        beta = -pi/2\n",
    "        gamma = -alpha + atan2(-R12, -R13)"
   ]
  },
  {
   "cell_type": "code",
   "execution_count": null,
   "metadata": {},
   "outputs": [],
   "source": [
    "alpha, beta, gamma"
   ]
  },
  {
   "cell_type": "code",
   "execution_count": null,
   "metadata": {},
   "outputs": [],
   "source": [
    "try:\n",
    "    alpha\n",
    "    beta\n",
    "except:\n",
    "    print('no')"
   ]
  },
  {
   "cell_type": "code",
   "execution_count": null,
   "metadata": {
    "collapsed": true
   },
   "outputs": [],
   "source": [
    "theta4 = gamma\n",
    "theta5 = beta\n",
    "theta6 = alpha"
   ]
  },
  {
   "cell_type": "code",
   "execution_count": null,
   "metadata": {},
   "outputs": [],
   "source": [
    "R3_6_ha = R3_6.row_join(Matrix([[0],[0],[0]]))\n",
    "R3_6_ha = R3_6_ha.col_join(Matrix([[0, 0, 0, 1]]))\n",
    "R3_6_ha"
   ]
  },
  {
   "cell_type": "code",
   "execution_count": null,
   "metadata": {
    "collapsed": true
   },
   "outputs": [],
   "source": []
  },
  {
   "cell_type": "code",
   "execution_count": null,
   "metadata": {
    "collapsed": true
   },
   "outputs": [],
   "source": [
    "beta = atan2(-r31, sqrt(r11**2 + r21**2)) # y ,theta\n",
    "gamma = atan2(r32, r33) - pi/2# x ,psi\n",
    "alpha = atan2(r21, r11) - pi/2 # z ,phi"
   ]
  },
  {
   "cell_type": "code",
   "execution_count": null,
   "metadata": {},
   "outputs": [],
   "source": [
    "s5 = sin(theta1)*r13 - cos(theta1)*r23\n",
    "atan2(s5, sqrt(1-s5**2))"
   ]
  },
  {
   "cell_type": "code",
   "execution_count": null,
   "metadata": {},
   "outputs": [],
   "source": [
    "R0_3"
   ]
  },
  {
   "cell_type": "code",
   "execution_count": null,
   "metadata": {},
   "outputs": [],
   "source": [
    "R0_3_inv"
   ]
  },
  {
   "cell_type": "code",
   "execution_count": null,
   "metadata": {},
   "outputs": [],
   "source": [
    "R0_3_inv[1,:] * R3_6[:,2]"
   ]
  },
  {
   "cell_type": "code",
   "execution_count": null,
   "metadata": {},
   "outputs": [],
   "source": [
    "T0_1"
   ]
  },
  {
   "cell_type": "code",
   "execution_count": null,
   "metadata": {
    "collapsed": true
   },
   "outputs": [],
   "source": [
    "R0_3_inv[0,:]"
   ]
  },
  {
   "cell_type": "code",
   "execution_count": null,
   "metadata": {
    "collapsed": true
   },
   "outputs": [],
   "source": []
  },
  {
   "cell_type": "code",
   "execution_count": null,
   "metadata": {
    "collapsed": true
   },
   "outputs": [],
   "source": []
  },
  {
   "cell_type": "code",
   "execution_count": 30,
   "metadata": {},
   "outputs": [
    {
     "data": {
      "text/plain": [
       "(1.47012475225096, -0.362661636851847, 0.728829712582474)"
      ]
     },
     "execution_count": 30,
     "metadata": {},
     "output_type": "execute_result"
    }
   ],
   "source": [
    "def Q_To_E(x, y, z, w):\n",
    "    ysqr = y*y\n",
    "    \n",
    "    t0 = +2.0 * (w * x + y*z)\n",
    "    t1 = +1.0 - 2.0 * (x*x + ysqr)\n",
    "    X = atan2(t0, t1)\n",
    "    \n",
    "    t2 = +2.0 * (w*y - z*x)\n",
    "    t2 =  1 if t2 > 1 else t2\n",
    "    t2 = -1 if t2 < -1 else t2\n",
    "    Y = asin(t2)\n",
    "    \n",
    "    t3 = +2.0 * (w * z + x*y)\n",
    "    t4 = +1.0 - 2.0 * (ysqr + z*z)\n",
    "    Z = atan2(t3, t4)\n",
    "    return X, Y, Z\n",
    "ox =0.664\n",
    "oy =0.11\n",
    "oz =0.373\n",
    "ow =0.639\n",
    "Q_To_E(ox,oy,oz,ow)"
   ]
  },
  {
   "cell_type": "code",
   "execution_count": 36,
   "metadata": {},
   "outputs": [
    {
     "data": {
      "text/plain": [
       "array([ 0.86623118,  0.79493658,  0.36197322])"
      ]
     },
     "execution_count": 36,
     "metadata": {},
     "output_type": "execute_result"
    }
   ],
   "source": [
    "np.random.random(3)"
   ]
  }
 ],
 "metadata": {
  "kernelspec": {
   "display_name": "Python 3",
   "language": "python",
   "name": "python3"
  },
  "language_info": {
   "codemirror_mode": {
    "name": "ipython",
    "version": 3
   },
   "file_extension": ".py",
   "mimetype": "text/x-python",
   "name": "python",
   "nbconvert_exporter": "python",
   "pygments_lexer": "ipython3",
   "version": "3.5.2"
  },
  "widgets": {
   "state": {},
   "version": "1.1.2"
  }
 },
 "nbformat": 4,
 "nbformat_minor": 2
}
